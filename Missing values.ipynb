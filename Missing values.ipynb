{
 "cells": [
  {
   "cell_type": "code",
   "execution_count": 22,
   "id": "6942dcdb",
   "metadata": {},
   "outputs": [
    {
     "name": "stderr",
     "output_type": "stream",
     "text": [
      "Matplotlib is building the font cache; this may take a moment.\n"
     ]
    }
   ],
   "source": [
    "import pandas as pd\n",
    "import numpy as np\n",
    "import seaborn as sns\n",
    "import os"
   ]
  },
  {
   "cell_type": "code",
   "execution_count": 24,
   "id": "d0504fe6",
   "metadata": {},
   "outputs": [],
   "source": [
    "df = pd.read_csv(\"Datatest.csv\")"
   ]
  },
  {
   "cell_type": "code",
   "execution_count": 25,
   "id": "a01daa89",
   "metadata": {},
   "outputs": [
    {
     "data": {
      "text/html": [
       "<div>\n",
       "<style scoped>\n",
       "    .dataframe tbody tr th:only-of-type {\n",
       "        vertical-align: middle;\n",
       "    }\n",
       "\n",
       "    .dataframe tbody tr th {\n",
       "        vertical-align: top;\n",
       "    }\n",
       "\n",
       "    .dataframe thead th {\n",
       "        text-align: right;\n",
       "    }\n",
       "</style>\n",
       "<table border=\"1\" class=\"dataframe\">\n",
       "  <thead>\n",
       "    <tr style=\"text-align: right;\">\n",
       "      <th></th>\n",
       "      <th>Policy</th>\n",
       "      <th>Expiry</th>\n",
       "      <th>Location</th>\n",
       "      <th>State</th>\n",
       "      <th>Region</th>\n",
       "      <th>InsuredValue</th>\n",
       "      <th>Construction</th>\n",
       "      <th>BusinessType</th>\n",
       "      <th>Earthquake</th>\n",
       "      <th>Flood</th>\n",
       "    </tr>\n",
       "  </thead>\n",
       "  <tbody>\n",
       "    <tr>\n",
       "      <th>0</th>\n",
       "      <td>100242</td>\n",
       "      <td>2-Jan-21</td>\n",
       "      <td>Urban</td>\n",
       "      <td>NY</td>\n",
       "      <td>East</td>\n",
       "      <td>NaN</td>\n",
       "      <td>Frame</td>\n",
       "      <td>Retail</td>\n",
       "      <td>N</td>\n",
       "      <td>N</td>\n",
       "    </tr>\n",
       "    <tr>\n",
       "      <th>1</th>\n",
       "      <td>100314</td>\n",
       "      <td>2-Jan-21</td>\n",
       "      <td>Urban</td>\n",
       "      <td>NY</td>\n",
       "      <td>East</td>\n",
       "      <td>8,678,500</td>\n",
       "      <td>Fire Resist</td>\n",
       "      <td>Apartment</td>\n",
       "      <td>Y</td>\n",
       "      <td>Y</td>\n",
       "    </tr>\n",
       "    <tr>\n",
       "      <th>2</th>\n",
       "      <td>100359</td>\n",
       "      <td>2-Jan-21</td>\n",
       "      <td>Rural</td>\n",
       "      <td>WI</td>\n",
       "      <td>Midwest</td>\n",
       "      <td>2,052,660</td>\n",
       "      <td>Frame</td>\n",
       "      <td>Farming</td>\n",
       "      <td>N</td>\n",
       "      <td>N</td>\n",
       "    </tr>\n",
       "    <tr>\n",
       "      <th>3</th>\n",
       "      <td>100315</td>\n",
       "      <td>3-Jan-21</td>\n",
       "      <td>Urban</td>\n",
       "      <td>NY</td>\n",
       "      <td>East</td>\n",
       "      <td>17,580,000</td>\n",
       "      <td>Frame</td>\n",
       "      <td>Apartment</td>\n",
       "      <td>Y</td>\n",
       "      <td>Y</td>\n",
       "    </tr>\n",
       "    <tr>\n",
       "      <th>4</th>\n",
       "      <td>100385</td>\n",
       "      <td>3-Jan-21</td>\n",
       "      <td>Urban</td>\n",
       "      <td>NY</td>\n",
       "      <td>East</td>\n",
       "      <td>1,925,000</td>\n",
       "      <td>Masonry</td>\n",
       "      <td>Hospitality</td>\n",
       "      <td>N</td>\n",
       "      <td>N</td>\n",
       "    </tr>\n",
       "    <tr>\n",
       "      <th>...</th>\n",
       "      <td>...</td>\n",
       "      <td>...</td>\n",
       "      <td>...</td>\n",
       "      <td>...</td>\n",
       "      <td>...</td>\n",
       "      <td>...</td>\n",
       "      <td>...</td>\n",
       "      <td>...</td>\n",
       "      <td>...</td>\n",
       "      <td>...</td>\n",
       "    </tr>\n",
       "    <tr>\n",
       "      <th>495</th>\n",
       "      <td>101121</td>\n",
       "      <td>31-Dec-21</td>\n",
       "      <td>Urban</td>\n",
       "      <td>VT</td>\n",
       "      <td>Northeast</td>\n",
       "      <td>4,101,750</td>\n",
       "      <td>Fire Resist</td>\n",
       "      <td>Office Bldg</td>\n",
       "      <td>Y</td>\n",
       "      <td>Y</td>\n",
       "    </tr>\n",
       "    <tr>\n",
       "      <th>496</th>\n",
       "      <td>101122</td>\n",
       "      <td>31-Dec-21</td>\n",
       "      <td>Urban</td>\n",
       "      <td>OH</td>\n",
       "      <td>Central</td>\n",
       "      <td>1,739,100</td>\n",
       "      <td>Frame</td>\n",
       "      <td>Apartment</td>\n",
       "      <td>N</td>\n",
       "      <td>N</td>\n",
       "    </tr>\n",
       "    <tr>\n",
       "      <th>497</th>\n",
       "      <td>101123</td>\n",
       "      <td>31-Dec-21</td>\n",
       "      <td>Urban</td>\n",
       "      <td>NY</td>\n",
       "      <td>East</td>\n",
       "      <td>2,250,000</td>\n",
       "      <td>Frame</td>\n",
       "      <td>Office Bldg</td>\n",
       "      <td>Y</td>\n",
       "      <td>Y</td>\n",
       "    </tr>\n",
       "    <tr>\n",
       "      <th>498</th>\n",
       "      <td>101125</td>\n",
       "      <td>31-Dec-21</td>\n",
       "      <td>Urban</td>\n",
       "      <td>NY</td>\n",
       "      <td>East</td>\n",
       "      <td>16,482,200</td>\n",
       "      <td>Frame</td>\n",
       "      <td>Office Bldg</td>\n",
       "      <td>Y</td>\n",
       "      <td>Y</td>\n",
       "    </tr>\n",
       "    <tr>\n",
       "      <th>499</th>\n",
       "      <td>101126</td>\n",
       "      <td>31-Dec-21</td>\n",
       "      <td>Urban</td>\n",
       "      <td>WI</td>\n",
       "      <td>Midwest</td>\n",
       "      <td>1,776,800</td>\n",
       "      <td>Frame</td>\n",
       "      <td>Farming</td>\n",
       "      <td>N</td>\n",
       "      <td>N</td>\n",
       "    </tr>\n",
       "  </tbody>\n",
       "</table>\n",
       "<p>500 rows × 10 columns</p>\n",
       "</div>"
      ],
      "text/plain": [
       "     Policy     Expiry Location State     Region InsuredValue Construction  \\\n",
       "0    100242   2-Jan-21    Urban    NY       East          NaN        Frame   \n",
       "1    100314   2-Jan-21    Urban    NY       East    8,678,500  Fire Resist   \n",
       "2    100359   2-Jan-21    Rural    WI    Midwest    2,052,660        Frame   \n",
       "3    100315   3-Jan-21    Urban    NY       East   17,580,000        Frame   \n",
       "4    100385   3-Jan-21    Urban    NY       East    1,925,000      Masonry   \n",
       "..      ...        ...      ...   ...        ...          ...          ...   \n",
       "495  101121  31-Dec-21    Urban    VT  Northeast    4,101,750  Fire Resist   \n",
       "496  101122  31-Dec-21    Urban    OH    Central    1,739,100        Frame   \n",
       "497  101123  31-Dec-21    Urban    NY       East    2,250,000        Frame   \n",
       "498  101125  31-Dec-21    Urban    NY       East   16,482,200        Frame   \n",
       "499  101126  31-Dec-21    Urban    WI    Midwest    1,776,800        Frame   \n",
       "\n",
       "    BusinessType Earthquake Flood  \n",
       "0         Retail          N     N  \n",
       "1      Apartment          Y     Y  \n",
       "2        Farming          N     N  \n",
       "3      Apartment          Y     Y  \n",
       "4    Hospitality          N     N  \n",
       "..           ...        ...   ...  \n",
       "495  Office Bldg          Y     Y  \n",
       "496    Apartment          N     N  \n",
       "497  Office Bldg          Y     Y  \n",
       "498  Office Bldg          Y     Y  \n",
       "499      Farming          N     N  \n",
       "\n",
       "[500 rows x 10 columns]"
      ]
     },
     "execution_count": 25,
     "metadata": {},
     "output_type": "execute_result"
    }
   ],
   "source": [
    "df"
   ]
  },
  {
   "cell_type": "code",
   "execution_count": null,
   "id": "3c81a6c4",
   "metadata": {},
   "outputs": [],
   "source": [
    "# Checking N/A and na Values"
   ]
  },
  {
   "cell_type": "code",
   "execution_count": 27,
   "id": "e4774603",
   "metadata": {},
   "outputs": [],
   "source": [
    "missing_value = [\"N/a\", \"na\", np.nan]\n",
    "df = pd.read_csv(\"Datatest.csv\", na_values = missing_value)"
   ]
  },
  {
   "cell_type": "code",
   "execution_count": 29,
   "id": "fb381acd",
   "metadata": {},
   "outputs": [
    {
     "data": {
      "text/plain": [
       "Policy          0\n",
       "Expiry          0\n",
       "Location        0\n",
       "State           0\n",
       "Region          0\n",
       "InsuredValue    6\n",
       "Construction    0\n",
       "BusinessType    0\n",
       "Earthquake      0\n",
       "Flood           0\n",
       "dtype: int64"
      ]
     },
     "execution_count": 29,
     "metadata": {},
     "output_type": "execute_result"
    }
   ],
   "source": [
    "df.isnull().sum ()"
   ]
  },
  {
   "cell_type": "code",
   "execution_count": 30,
   "id": "5ee5a8fd",
   "metadata": {},
   "outputs": [
    {
     "data": {
      "text/plain": [
       "Policy          False\n",
       "Expiry          False\n",
       "Location        False\n",
       "State           False\n",
       "Region          False\n",
       "InsuredValue     True\n",
       "Construction    False\n",
       "BusinessType    False\n",
       "Earthquake      False\n",
       "Flood           False\n",
       "dtype: bool"
      ]
     },
     "execution_count": 30,
     "metadata": {},
     "output_type": "execute_result"
    }
   ],
   "source": [
    "df.isnull().any ()"
   ]
  },
  {
   "cell_type": "code",
   "execution_count": 32,
   "id": "64b51e2b",
   "metadata": {},
   "outputs": [
    {
     "data": {
      "text/plain": [
       "<AxesSubplot:>"
      ]
     },
     "execution_count": 32,
     "metadata": {},
     "output_type": "execute_result"
    },
    {
     "data": {
      "image/png": "[encoded data removed]",
      "text/plain": [
       "<Figure size 640x480 with 2 Axes>"
      ]
     },
     "metadata": {},
     "output_type": "display_data"
    }
   ],
   "source": [
    "sns.heatmap(df.isnull(), yticklabels=False, annot=True)"
   ]
  }
 ],
 "metadata": {
  "kernelspec": {
   "display_name": "Python 3 (ipykernel)",
   "language": "python",
   "name": "python3"
  },
  "language_info": {
   "codemirror_mode": {
    "name": "ipython",
    "version": 3
   },
   "file_extension": ".py",
   "mimetype": "text/x-python",
   "name": "python",
   "nbconvert_exporter": "python",
   "pygments_lexer": "ipython3",
   "version": "3.9.12"
  }
 },
 "nbformat": 4,
 "nbformat_minor": 5
}
